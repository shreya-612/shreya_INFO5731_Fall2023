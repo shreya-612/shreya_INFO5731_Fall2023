{
  "cells": [
    {
      "cell_type": "markdown",
      "metadata": {
        "id": "view-in-github"
      },
      "source": [
        "<a href=\"https://colab.research.google.com/github/unt-iialab/INFO5731_Spring2020/blob/master/Assignments/INFO5731_Assignment_One.ipynb\" target=\"_parent\"><img src=\"https://colab.research.google.com/assets/colab-badge.svg\" alt=\"Open In Colab\"/></a>"
      ]
    },
    {
      "cell_type": "markdown",
      "metadata": {
        "id": "Ryk8D1Q4Wsrp"
      },
      "source": [
        "# **INFO5731 Assignment One**"
      ]
    },
    {
      "cell_type": "markdown",
      "metadata": {
        "id": "90_NR8c5XGWc"
      },
      "source": [
        "# Question 1\n",
        "\n",
        "(20 points). Write a Python program to generate 12 random numbers between 1 and 100. Sort the list of numbers in ascending order and print it out. Sort the list of numbers in descending order and print it out. Calculate the average for the group and print it out."
      ]
    },
    {
      "cell_type": "code",
      "execution_count": null,
      "metadata": {
        "id": "5QX6bJjGWXY9",
        "outputId": "dda89586-8087-4e2b-b44f-f9ad43bf995b"
      },
      "outputs": [
        {
          "name": "stdout",
          "output_type": "stream",
          "text": [
            "Generated random numbers: [61, 100, 21, 29, 58, 2, 30, 55, 60, 85, 28, 92]\n",
            "Ascending order: [2, 21, 28, 29, 30, 55, 58, 60, 61, 85, 92, 100]\n",
            "Descending order: [100, 92, 85, 61, 60, 58, 55, 30, 29, 28, 21, 2]\n",
            "Average: 51.75\n"
          ]
        }
      ],
      "source": [
        "# Your code here\n",
        "import random\n",
        "\n",
        "# Generate 12 random numbers between 1 and 100\n",
        "random_num = [random.randint(1, 100) for _ in range(12)]\n",
        "\n",
        "# Sort the list in ascending order\n",
        "ascending_order = sorted(random_num)\n",
        "\n",
        "# Sort the list in descending order\n",
        "descending_order = sorted(random_num, reverse=True)\n",
        "\n",
        "# Calculate the average\n",
        "average = sum(random_num) / len(random_num)\n",
        "\n",
        "# Print the results\n",
        "print(\"Generated random numbers:\", random_num)\n",
        "print(\"Ascending order:\", ascending_order)\n",
        "print(\"Descending order:\", descending_order)\n",
        "print(\"Average:\", average)\n",
        "\n"
      ]
    },
    {
      "cell_type": "markdown",
      "metadata": {
        "id": "1F_PZdH9Sh49"
      },
      "source": [
        "# Question 2\n",
        "(25 points).\n",
        "\n",
        "Write a program that will do the following string formatting tasks:\n",
        "\n",
        "(1) Ask the user to enter two sentences.\n",
        "\n",
        "(2) Make each sentence into a list. Each element in the list should correspond to a word in the sentence. For example, if the sentence is \"Alas! Am I alive? This is my first python program\", the program should print out ['Alas, '!', 'Am', 'I', 'alive, '?', 'This', 'is', 'my', 'first', 'python', 'program'].\n",
        "\n",
        "(3) Compare the two sentences. Print out a list of words that occur in both sentences.\n",
        "\n",
        "(4) Remove any punctuation from the sentence and print it back out. It should remove at least the following characters, but it can remove more: period(“.”), comma (“,”), semicolon (“;”), and colon (“:”)\n",
        "\n",
        "(5) Count the number of vowels in the sentences. Print out each vowel and the number of times it appears in the sentences, such as: a:2, e:1, i:0, etc"
      ]
    },
    {
      "cell_type": "code",
      "execution_count": null,
      "metadata": {
        "id": "Y0oOSlsOS0cq",
        "outputId": "81c5697c-9e69-43e3-ee35-25adc3e970cd"
      },
      "outputs": [
        {
          "name": "stdout",
          "output_type": "stream",
          "text": [
            "Enter the first sentence: Alas! Am I alive?\n",
            "Enter the second sentence: This is my first python program\n",
            "Word list for sentence 1: ['Alas!', 'Am', 'I', 'alive?']\n",
            "Word list for sentence 2: ['This', 'is', 'my', 'first', 'python', 'program']\n",
            "Common words in both sentences: []\n",
            "Sentence 1 without punctuation: Alas Am I alive\n",
            "Sentence 2 without punctuation: This is my first python program\n",
            "Vowel count for sentence 1: {'a': 2, 'e': 1, 'i': 1, 'o': 0, 'u': 0, 'A': 2, 'E': 0, 'I': 1, 'O': 0, 'U': 0}\n",
            "Vowel count for sentence 2: {'a': 1, 'e': 0, 'i': 3, 'o': 2, 'u': 0, 'A': 0, 'E': 0, 'I': 0, 'O': 0, 'U': 0}\n"
          ]
        }
      ],
      "source": [
        "# Your code here\n",
        "import string\n",
        "\n",
        "# (1): Ask the user to enter two sentences.\n",
        "sentence1 = input(\"Enter the first sentence: \")\n",
        "sentence2 = input(\"Enter the second sentence: \")\n",
        "\n",
        "# (2): Make each sentence into a list of words.\n",
        "def sentence_to_word_list(sentence):\n",
        "    # Split the sentence into words and preserve punctuation.\n",
        "    words = []\n",
        "    word = ''\n",
        "    for char in sentence:\n",
        "        if char.isalnum() or char in string.punctuation:\n",
        "            word += char\n",
        "        else:\n",
        "            if word:\n",
        "                words.append(word)\n",
        "            if char != ' ':\n",
        "                words.append(char)\n",
        "            word = ''\n",
        "    if word:\n",
        "        words.append(word)\n",
        "    return words\n",
        "\n",
        "word_list1 = sentence_to_word_list(sentence1)\n",
        "word_list2 = sentence_to_word_list(sentence2)\n",
        "\n",
        "print(\"Word list for sentence 1:\", word_list1)\n",
        "print(\"Word list for sentence 2:\", word_list2)\n",
        "\n",
        "# (3): Compare the two sentences and print out common words.\n",
        "common_words = list(set(word_list1) & set(word_list2))\n",
        "print(\"Common words in both sentences:\", common_words)\n",
        "\n",
        "# (4): Remove punctuation from the sentences.\n",
        "def remove_punctuation(sentence):\n",
        "    return ''.join(char for char in sentence if char not in string.punctuation)\n",
        "\n",
        "sentence1_no_punctuation = remove_punctuation(sentence1)\n",
        "sentence2_no_punctuation = remove_punctuation(sentence2)\n",
        "\n",
        "print(\"Sentence 1 without punctuation:\", sentence1_no_punctuation)\n",
        "print(\"Sentence 2 without punctuation:\", sentence2_no_punctuation)\n",
        "\n",
        "# (5): Count the number of vowels in the sentences.\n",
        "def count_vowels(sentence):\n",
        "    vowels = \"aeiouAEIOU\"\n",
        "    vowel_count = {vowel: 0 for vowel in vowels}\n",
        "    for char in sentence:\n",
        "        if char in vowel_count:\n",
        "            vowel_count[char] += 1\n",
        "    return vowel_count\n",
        "\n",
        "vowel_count1 = count_vowels(sentence1)\n",
        "vowel_count2 = count_vowels(sentence2)\n",
        "\n",
        "print(\"Vowel count for sentence 1:\", vowel_count1)\n",
        "print(\"Vowel count for sentence 2:\", vowel_count2)\n",
        "\n"
      ]
    },
    {
      "cell_type": "markdown",
      "metadata": {
        "id": "CmFoI4jDS9nx"
      },
      "source": [
        "# Question 3\n",
        "\n",
        "(15 points). The formula that describes the volume V of a sphere with radius r is the following:\n",
        "\n",
        "$ V=\\frac{4}{3}\\ast\\ \\pi\\ast\\ r^3 $\n",
        "\n",
        "Write a program to calculate the value of V when r is in the range of 1–10. Output the result in the following format:\n",
        "\n",
        "\tr\tV\n",
        "\t1\t…\n",
        "\t2\t…\n",
        "\t3\t…\n"
      ]
    },
    {
      "cell_type": "code",
      "execution_count": null,
      "metadata": {
        "id": "pEyqeioAT95b",
        "outputId": "c4f6a46a-9b51-4281-f189-a350c9a07892"
      },
      "outputs": [
        {
          "name": "stdout",
          "output_type": "stream",
          "text": [
            "r    V\n",
            "1    4.19\n",
            "2    33.51\n",
            "3    113.10\n",
            "4    268.08\n",
            "5    523.60\n",
            "6    904.78\n",
            "7    1436.76\n",
            "8    2144.66\n",
            "9    3053.63\n",
            "10    4188.79\n"
          ]
        }
      ],
      "source": [
        "# Your code here\n",
        "import math\n",
        "print(\"r    V\")\n",
        "for r in range(1, 11):\n",
        "    # Calculate the volume using the formula V = (4/3) * pi * r^3\n",
        "    volume = (4/3) * math.pi * r**3\n",
        "    print(f\"{r}    {volume:.2f}\")\n",
        "\n"
      ]
    },
    {
      "cell_type": "markdown",
      "metadata": {
        "id": "z3tBE7E-Xn5X"
      },
      "source": [
        "# Question 4\n",
        "\n",
        "(40 points). In the field of Data Science, data is often formatted as a comma-delimited (CSV) file, where each line in a file corresponds to a field's value. Refer to Chapter 9 (p. 106) for more information on comma-delimited files. To answer this question, you will need to download the file [Assignment1_denton_housing.csv](https://raw.githubusercontent.com/unt-iialab/info5731-spring2022/main/assignments/Assignment1_denton_housing.csv) included with this assignment. The file [Assignment1_denton_housing.csv](https://raw.githubusercontent.com/unt-iialab/info5731-spring2022/main/assignments/Assignment1_denton_housing.csv) contains statistics about housing in the city of Denton from 2008 to 2014. Write a program to implement the following questions.\n",
        "\n",
        "(1) (10 pts) Calculate the difference in the number of Occupied Housing Units from year to year and print it. The difference must be calculated for the consecutive years such as 2008-2009, 2009-2010 etc. Finally, print the values in the ascending order.\n",
        "\n",
        "(2) (10 pts) For all the years, calculate the percentage of housing units which are vacant an occupied. Print the results in the following format:\n",
        "\n",
        "Year Vacant Housing Units Occupied Housing Units\n",
        "\n",
        "    2008  30%   70%                          \n",
        "\t2009 ----- -----\n",
        "\t2010 ----- -----\n",
        "    2011 ----- -----\n",
        "\t2012 ----- -----\n",
        "    2013 ----- -----\n",
        "\t2014 ----- -----\n",
        "  \n",
        "  \n",
        "\n",
        "(3) (10 pts) Calculate and print the valued and years in which the highest number of housing units were vacant and occupied. Print the results in the following format:  \n",
        "\n",
        "                              Year\tValue\n",
        "\tVacant Housing Units\t  -----   -----\n",
        "\tOccupied Housing Units\t-----   -----\n",
        "\n",
        "(4) (10 pts) Calculate the harmonic mean of the total housing units and print it out. You can find the information about harmonic mean here: https://ncalculators.com/statistics/harmonic-mean-calculator.htm"
      ]
    },
    {
      "cell_type": "code",
      "execution_count": null,
      "metadata": {
        "id": "lqGYuHBhcsRH",
        "outputId": "e7361a0d-c7e5-4cd5-de9d-c8a6380fdb7d"
      },
      "outputs": [
        {
          "name": "stdout",
          "output_type": "stream",
          "text": [
            "(1) Difference in Occupied Housing Units from year to year (ascending order):\n",
            "2014-2013: -2622\n",
            "2013-2012: -1565\n",
            "2012-2011: -1404\n",
            "2011-2010: 303\n",
            "2010-2009: -5091\n",
            "2009-2008: 795\n",
            "\n",
            "(2) Percentage of Housing Units (Vacant and Occupied) for Each Year:\n",
            "Year  Vacant Housing Units  Occupied Housing Units\n",
            "2014  5.7%  94.3\n",
            "2013  8.8%  91.2\n",
            "2012  6.7%  93.3\n",
            "2011  9.4%  90.6\n",
            "2010  8.1%  91.9\n",
            "2009  9.1%  90.9\n",
            "2008  10.9%  89.1\n",
            "\n",
            "(3) Year and Value with the Highest Number of Housing Units:\n",
            "Vacant Housing Units      2008     4483\n",
            "Occupied Housing Units    2014     46295\n",
            "\n",
            "(4) Harmonic Mean of Total Housing Units:\n",
            "44398.29\n"
          ]
        }
      ],
      "source": [
        "import csv\n",
        "\n",
        "# Initialize variables to store data\n",
        "years = []\n",
        "occupied_units = []\n",
        "vacant_units = []\n",
        "\n",
        "# Specify the file path\n",
        "file_path = r\"C:\\Users\\shrey\\Downloads\\Assignment1_denton_housing (1).csv\"\n",
        "\n",
        "# Task 1: Calculate the difference in the number of Occupied Housing Units from year to year\n",
        "with open(file_path, 'r') as file:\n",
        "    reader = csv.DictReader(file)\n",
        "\n",
        "    for row in reader:\n",
        "        year = int(row['year'])\n",
        "        title = row['title_field']\n",
        "        value = int(row['value'])\n",
        "\n",
        "        if title == \"Occupied Housing Units\":\n",
        "            years.append(year)\n",
        "            occupied_units.append(value)\n",
        "        elif title == \"Vacant Housing Units\":\n",
        "            vacant_units.append(value)\n",
        "\n",
        "print(\"(1) Difference in Occupied Housing Units from year to year (ascending order):\")\n",
        "for i in range(1, len(years)):\n",
        "    diff = occupied_units[i] - occupied_units[i - 1]\n",
        "    print(f\"{years[i - 1]}-{years[i]}: {diff}\")\n",
        "\n",
        "# Task 2: Calculate the percentage of vacant and occupied housing units for each year\n",
        "print(\"\\n(2) Percentage of Housing Units (Vacant and Occupied) for Each Year:\")\n",
        "print(\"Year  Vacant Housing Units  Occupied Housing Units\")\n",
        "for i in range(len(years)):\n",
        "    total_units = vacant_units[i] + occupied_units[i]\n",
        "    vacant_percentage = (vacant_units[i] / total_units) * 100\n",
        "    occupied_percentage = (occupied_units[i] / total_units) * 100\n",
        "    print(f\"{years[i]}  {vacant_percentage:.1f}%  {occupied_percentage:.1f}\")\n",
        "\n",
        "# Task 3: Find the year with the highest number of vacant and occupied housing units\n",
        "max_vacant_year = years[vacant_units.index(max(vacant_units))]\n",
        "max_occupied_year = years[occupied_units.index(max(occupied_units))]\n",
        "\n",
        "print(\"\\n(3) Year and Value with the Highest Number of Housing Units:\")\n",
        "print(f\"Vacant Housing Units      {max_vacant_year}     {max(vacant_units)}\")\n",
        "print(f\"Occupied Housing Units    {max_occupied_year}     {max(occupied_units)}\")\n",
        "\n",
        "# Task 4: Calculate the harmonic mean of the total housing units\n",
        "total_units = [vu + ou for vu, ou in zip(vacant_units, occupied_units)]\n",
        "n = len(total_units)\n",
        "harmonic_mean = n / sum(1 / unit for unit in total_units)\n",
        "\n",
        "print(\"\\n(4) Harmonic Mean of Total Housing Units:\")\n",
        "print(f\"{harmonic_mean:.2f}\")\n"
      ]
    },
    {
      "cell_type": "code",
      "execution_count": null,
      "metadata": {
        "id": "RGnvTyPaFZkK"
      },
      "outputs": [],
      "source": []
    }
  ],
  "metadata": {
    "colab": {
      "provenance": []
    },
    "kernelspec": {
      "display_name": "Python 3 (ipykernel)",
      "language": "python",
      "name": "python3"
    },
    "language_info": {
      "codemirror_mode": {
        "name": "ipython",
        "version": 3
      },
      "file_extension": ".py",
      "mimetype": "text/x-python",
      "name": "python",
      "nbconvert_exporter": "python",
      "pygments_lexer": "ipython3",
      "version": "3.9.12"
    }
  },
  "nbformat": 4,
  "nbformat_minor": 0
}