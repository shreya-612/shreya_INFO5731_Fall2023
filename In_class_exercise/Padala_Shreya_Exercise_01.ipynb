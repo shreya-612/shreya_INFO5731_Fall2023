{
  "cells": [
    {
      "cell_type": "markdown",
      "metadata": {
        "id": "view-in-github",
        "colab_type": "text"
      },
      "source": [
        "<a href=\"https://colab.research.google.com/github/shreya-612/shreya_INFO5731_Fall2023/blob/main/In_class_exercise/Padala_Shreya_Exercise_01.ipynb\" target=\"_parent\"><img src=\"https://colab.research.google.com/assets/colab-badge.svg\" alt=\"Open In Colab\"/></a>"
      ]
    },
    {
      "cell_type": "markdown",
      "source": [
        "(1) Write a Python program to calculate the area of a rectangle using user-input length and width."
      ],
      "metadata": {
        "id": "FBKvD6O_TY6e"
      }
    },
    {
      "cell_type": "code",
      "source": [
        "#length and width\n",
        "l=float(input(\"Length of rectangle \"))\n",
        "w=float(input(\"Width of rectangle \"))\n",
        "#finding area\n",
        "Area=l*w\n",
        "print(f\"Area of rectangle: {Area} sq. units\")"
      ],
      "metadata": {
        "id": "cikVKDXdTbzE",
        "colab": {
          "base_uri": "https://localhost:8080/"
        },
        "outputId": "e954da1b-b970-42a5-a83d-90f04f648e7f"
      },
      "execution_count": null,
      "outputs": [
        {
          "output_type": "stream",
          "name": "stdout",
          "text": [
            "Length of rectangle 4\n",
            "Width of rectangle 5\n",
            "Area of rectangle: 20.0 sq. units\n"
          ]
        }
      ]
    },
    {
      "cell_type": "markdown",
      "source": [
        "(2) Create a program that takes two numbers from the user and swaps their values without using a temporary variable."
      ],
      "metadata": {
        "id": "E9RqrlwdTfvl"
      }
    },
    {
      "cell_type": "code",
      "source": [
        "#Two numbers\n",
        "firstnum = float(input(\"Enter 1st number: \"))\n",
        "secondnum= float(input(\"Enter 2nd number: \"))\n",
        "# Swapping\n",
        "firstnum,secondnum=secondnum,firstnum\n",
        "#After Swapping\n",
        "print(\"After swapping is done:\")\n",
        "print(f\"1st number: {firstnum}\")\n",
        "print(f\"2nd number: {secondnum}\")\n"
      ],
      "metadata": {
        "id": "4XvRknixTh1g",
        "colab": {
          "base_uri": "https://localhost:8080/"
        },
        "outputId": "111a3221-3aac-46a8-b90a-a70d5006dca4"
      },
      "execution_count": null,
      "outputs": [
        {
          "output_type": "stream",
          "name": "stdout",
          "text": [
            "Enter 1st number: 5.7\n",
            "Enter 2nd number: 8.9\n",
            "After swapping is done:\n",
            "1st number: 8.9\n",
            "2nd number: 5.7\n"
          ]
        }
      ]
    },
    {
      "cell_type": "markdown",
      "metadata": {
        "id": "03jb4GZsBkBS"
      },
      "source": [
        "(3) Write a Python program to calculate the length of a string."
      ]
    },
    {
      "cell_type": "code",
      "execution_count": null,
      "metadata": {
        "id": "YaGLbSHHB8Ej",
        "colab": {
          "base_uri": "https://localhost:8080/"
        },
        "outputId": "c667df40-d90d-482a-b3c0-001ff0dc4286"
      },
      "outputs": [
        {
          "output_type": "stream",
          "name": "stdout",
          "text": [
            "Enter string: hiiiiheyhellooo\n",
            "string length is: 15\n"
          ]
        }
      ],
      "source": [
        "#string input\n",
        "string_input=input(\"Enter string: \")\n",
        "#length of string\n",
        "length=len(string_input)\n",
        "print(f\"string length is: {length}\")"
      ]
    },
    {
      "cell_type": "markdown",
      "metadata": {
        "id": "jJDe71iLB616"
      },
      "source": [
        "(4) Write a Python program to count the number of characters in a string.\n",
        "\n",
        "Sample String : 'google.com‘,\n",
        "\n",
        "Expected Result : {'o': 3, 'g': 2, '.': 1, 'e': 1, 'l': 1, 'm': 1, 'c': 1}"
      ]
    },
    {
      "cell_type": "code",
      "execution_count": 11,
      "metadata": {
        "id": "MtKskTzbCLaU",
        "colab": {
          "base_uri": "https://localhost:8080/"
        },
        "outputId": "e15cace3-63a7-478f-fdae-f683daa45281"
      },
      "outputs": [
        {
          "output_type": "stream",
          "name": "stdout",
          "text": [
            "Enter string: whyy\n",
            "Number of characters in the string:\n",
            "'w': 1\n",
            "'h': 1\n",
            "'y': 2\n"
          ]
        }
      ],
      "source": [
        "def string_characters(string_input):\n",
        "    num_of_char = {}  # Create an empty dictionary to store character counts\n",
        "\n",
        "    # Iterate through each character in the input string\n",
        "    for char in string_input:\n",
        "        if char in num_of_char:\n",
        "            num_of_char[char] = num_of_char[char] + 1  # Increment the count if character is already in the dictionary\n",
        "        else:\n",
        "            num_of_char[char] = 1  # Initialize the count to 1 for a new character\n",
        "\n",
        "    return num_of_char  # Return the dictionary with character counts\n",
        "\n",
        "string_input = input(\"Enter string: \")\n",
        "num_of_char = string_characters(string_input)\n",
        "\n",
        "print(\"Number of characters in the string:\")\n",
        "for char, count in num_of_char.items():\n",
        "    print(f\"'{char}': {count}\")  # Print each character and its count\n"
      ]
    },
    {
      "cell_type": "markdown",
      "metadata": {
        "id": "55W9AMdXCSpV"
      },
      "source": [
        "(5) Write a Python program to sum all the items in a list."
      ]
    },
    {
      "cell_type": "code",
      "execution_count": 12,
      "metadata": {
        "id": "I57NXsauCec2",
        "colab": {
          "base_uri": "https://localhost:8080/"
        },
        "outputId": "227c3f28-22ab-41e0-9597-4b0f0e4e3cd4"
      },
      "outputs": [
        {
          "output_type": "stream",
          "name": "stdout",
          "text": [
            "Enter items in the list: 5 6 7 4 3 2\n",
            "Sum of items in list: 27\n"
          ]
        }
      ],
      "source": [
        "def sum_of_list(list_input):\n",
        "    return sum(list_input)  # Using the built-in sum() function to calculate the sum of the list\n",
        "\n",
        "# Taking input from the user for the list\n",
        "list_input = [int(x) for x in input(\"Enter items in the list: \").split()]\n",
        "\n",
        "# Calling the sum_of_list function to calculate the sum of the items in the list\n",
        "result = sum_of_list(list_input)\n",
        "\n",
        "# Printing the sum of items in the list\n",
        "print(\"Sum of items in list:\", result)\n"
      ]
    },
    {
      "cell_type": "markdown",
      "metadata": {
        "id": "4ulBZ6yhCi9F"
      },
      "source": [
        "(6) Write a Python program to get a string from a given string where all occurrences of its first char have been changed to '\\$', except the first char itself.\n",
        "\n",
        "Sample String : 'restart‘,\n",
        "\n",
        "Expected Result : 'resta\\$t'"
      ]
    },
    {
      "cell_type": "code",
      "execution_count": 13,
      "metadata": {
        "id": "Fj0XhwbBCw2o",
        "colab": {
          "base_uri": "https://localhost:8080/"
        },
        "outputId": "6fc3c077-7c33-47d4-d908-0653b45049a7"
      },
      "outputs": [
        {
          "output_type": "stream",
          "name": "stdout",
          "text": [
            "Enter a string: restart\n",
            "resta$t\n"
          ]
        }
      ],
      "source": [
        "def replace_first_char_occurrences(input_string):\n",
        "    if len(input_string) <= 1:\n",
        "        return input_string  # Return the input string unchanged if its length is less than or equal to 1\n",
        "\n",
        "    first_char = input_string[0]  # Store the first character\n",
        "    modified_str = first_char + input_string[1:].replace(first_char, '$')  # Create a modified string\n",
        "\n",
        "    return modified_str  # Return the modified string\n",
        "\n",
        "input_string = input(\"Enter a string: \")\n",
        "print(replace_first_char_occurrences(input_string))  # Print the modified string\n"
      ]
    },
    {
      "cell_type": "markdown",
      "source": [
        "(7) Create a program that calculates the factorial of a number using a while loop."
      ],
      "metadata": {
        "id": "qVXA3q7ET5JI"
      }
    },
    {
      "cell_type": "code",
      "source": [
        "def factorial_of_num(n):\n",
        "    f = 1  # Initialize the factorial value to 1\n",
        "    while n > 1:\n",
        "        f = f * n  # Multiply the current factorial value with n\n",
        "        n = n - 1  # Decrement n for the next iteration\n",
        "    return f  # Return the calculated factorial value\n",
        "\n",
        "n_value = int(input(\"Enter num: \"))\n",
        "result = factorial_of_num(n_value)\n",
        "print(\"Factorial:\", result)\n"
      ],
      "metadata": {
        "id": "Lbt7R6UkT7BA",
        "colab": {
          "base_uri": "https://localhost:8080/"
        },
        "outputId": "8c8b1b9c-2d29-4c10-f550-6eccdffad4fc"
      },
      "execution_count": 14,
      "outputs": [
        {
          "output_type": "stream",
          "name": "stdout",
          "text": [
            "Enter num: 4\n",
            "Factorial: 24\n"
          ]
        }
      ]
    },
    {
      "cell_type": "markdown",
      "source": [
        "(8) Create a program that takes a list of numbers as input and outputs a new list with only the even numbers."
      ],
      "metadata": {
        "id": "6YfbzXMNT--R"
      }
    },
    {
      "cell_type": "code",
      "source": [
        "def even_num(list_input):\n",
        "    even_numbers_list = []  # Initialize an empty list to store even numbers\n",
        "    for n in list_input:\n",
        "        if n % 2 == 0:  # Check if the number is even\n",
        "            even_numbers_list.append(n)  # Append even numbers to the list\n",
        "    return even_numbers_list  # Return the list of even numbers\n",
        "\n",
        "# Taking input from the user and creating a list of integers\n",
        "list_input = [int(x) for x in input(\"Enter a list of numbers: \").split()]\n",
        "\n",
        "# Calling the even_num function to create a new list with even numbers\n",
        "result = even_num(list_input)\n",
        "\n",
        "# Printing the new list with only even numbers\n",
        "print(\"New list with only even numbers:\", result)\n"
      ],
      "metadata": {
        "id": "54q7wMQPUAKu",
        "colab": {
          "base_uri": "https://localhost:8080/"
        },
        "outputId": "2c282467-9364-43e8-8503-d82475d05523"
      },
      "execution_count": 15,
      "outputs": [
        {
          "output_type": "stream",
          "name": "stdout",
          "text": [
            "Enter a list of numbers: 2 3 4 5 6 7 \n",
            "New list with only even numbers: [2, 4, 6]\n"
          ]
        }
      ]
    },
    {
      "cell_type": "markdown",
      "metadata": {
        "id": "_bIP7s1MCzue"
      },
      "source": [
        "(9) Write a program with python which could accept two parameter a and b to calculate and output the result of S, where\n",
        "\n",
        "$\\ S=3.14*(1+a/b)^3$\n",
        "\n"
      ]
    },
    {
      "cell_type": "code",
      "execution_count": 16,
      "metadata": {
        "id": "w79QilHXD3Mg",
        "colab": {
          "base_uri": "https://localhost:8080/"
        },
        "outputId": "4c77bab8-2ce6-40e6-d9b5-b8a404c77380"
      },
      "outputs": [
        {
          "output_type": "stream",
          "name": "stdout",
          "text": [
            "Enter a value: 5\n",
            "Enter b value: 4\n",
            "S value is: 35.7665625\n"
          ]
        }
      ],
      "source": [
        "def s_val(a, b):\n",
        "    S = 3.14 * (1 + a / b) ** 3  # Calculating the value of S using the formula\n",
        "    return S  # Return the calculated value of S\n",
        "\n",
        "a = float(input(\"Enter a value: \"))\n",
        "b = float(input(\"Enter b value: \"))\n",
        "\n",
        "answer = s_val(a, b)  # Calling the s_val function with input values\n",
        "print(\"S value is:\", answer)\n"
      ]
    },
    {
      "cell_type": "markdown",
      "metadata": {
        "id": "xCa2bK9aD4Q3"
      },
      "source": [
        "(10) Write a Python program to concatenate following dictionaries to create a new one.\n",
        "\n",
        "Sample Dictionary : dic1={1:10, 2:20}, dic2={3:30, 4:40}, dic3={5:50,6:60},\n",
        "\n",
        "Expected Result : {1: 10, 2: 20, 3: 30, 4: 40, 5: 50, 6: 60}\n"
      ]
    },
    {
      "cell_type": "code",
      "execution_count": 17,
      "metadata": {
        "id": "_z4aLqAbEET1",
        "colab": {
          "base_uri": "https://localhost:8080/"
        },
        "outputId": "c20a8222-3cd6-43a0-bb82-ae49f954adfd"
      },
      "outputs": [
        {
          "output_type": "stream",
          "name": "stdout",
          "text": [
            "{1: 10, 2: 20, 3: 30, 4: 40, 5: 50, 6: 60}\n"
          ]
        }
      ],
      "source": [
        "def concatenate_dicts(*dicts):\n",
        "    concatenated_dict = {}  # Initialize an empty dictionary to store the concatenated result\n",
        "    for d in dicts:\n",
        "        concatenated_dict.update(d)  # Use the update() method to merge dictionaries\n",
        "    return concatenated_dict  # Return the concatenated dictionary\n",
        "\n",
        "dic1 = {1: 10, 2: 20}\n",
        "dic2 = {3: 30, 4: 40}\n",
        "dic3 = {5: 50, 6: 60}\n",
        "\n",
        "# Calling the concatenate_dicts function with the three dictionaries as arguments\n",
        "result = concatenate_dicts(dic1, dic2, dic3)\n",
        "\n",
        "print(result)  # Printing the concatenated dictionary\n"
      ]
    },
    {
      "cell_type": "markdown",
      "source": [
        "(11) Write a Python function that accepts a tuple of integers and returns the largest and smallest elements."
      ],
      "metadata": {
        "id": "bkyZ2xSZUOst"
      }
    },
    {
      "cell_type": "code",
      "source": [
        "def largest_and_smallest(values):\n",
        "    s = min(values)  # Find the minimum value in the tuple\n",
        "    l = max(values)  # Find the maximum value in the tuple\n",
        "    return s, l  # Return the smallest and largest values\n",
        "\n",
        "# Taking input from the user and converting it to a tuple of integers\n",
        "tuple_as_input = tuple(int(x) for x in input(\"Enter tuple of integers: \").split())\n",
        "\n",
        "# Calling the largest_and_smallest function with the tuple as input\n",
        "s, l = largest_and_smallest(tuple_as_input)\n",
        "\n",
        "# Printing the smallest and largest values\n",
        "print(\"Smallest:\", s)\n",
        "print(\"Largest:\", l)\n"
      ],
      "metadata": {
        "id": "3FdLRBKOUQEd",
        "colab": {
          "base_uri": "https://localhost:8080/"
        },
        "outputId": "939b7ff0-380a-4c12-ee62-e63deb04d170"
      },
      "execution_count": 18,
      "outputs": [
        {
          "output_type": "stream",
          "name": "stdout",
          "text": [
            "Enter tuple of integers: 6 567 98\n",
            "Smallest: 6\n",
            "Largest: 567\n"
          ]
        }
      ]
    },
    {
      "cell_type": "markdown",
      "source": [
        "(12) Write a Python program that counts the frequency of each character in a given string and stores it in a dictionary."
      ],
      "metadata": {
        "id": "O0TVi3gKUTpp"
      }
    },
    {
      "cell_type": "code",
      "source": [
        "def count_character_frequency(input_string):\n",
        "    frequency_dict = {}  # Initialize an empty dictionary to store character frequencies\n",
        "\n",
        "    for char in input_string:\n",
        "        if char in frequency_dict:\n",
        "            frequency_dict[char] += 1  # Increment the count if the character exists in the dictionary\n",
        "        else:\n",
        "            frequency_dict[char] = 1   # Add the character to the dictionary with a count of 1\n",
        "\n",
        "    return frequency_dict  # Return the dictionary containing character frequencies\n",
        "\n",
        "input_string = input(\"Enter a string: \")\n",
        "result = count_character_frequency(input_string)  # Call the function to calculate frequencies\n",
        "\n",
        "print(\"Character Frequency:\")\n",
        "for char, frequency in result.items():\n",
        "    print(f\"'{char}': {frequency}\")  # Print character frequencies\n"
      ],
      "metadata": {
        "id": "lAtfSfZXUU-h",
        "colab": {
          "base_uri": "https://localhost:8080/"
        },
        "outputId": "ec423bff-5e36-4ada-ae5b-6d3b768fccc5"
      },
      "execution_count": 19,
      "outputs": [
        {
          "output_type": "stream",
          "name": "stdout",
          "text": [
            "Enter a string: returning\n",
            "Character Frequency:\n",
            "'r': 2\n",
            "'e': 1\n",
            "'t': 1\n",
            "'u': 1\n",
            "'n': 2\n",
            "'i': 1\n",
            "'g': 1\n"
          ]
        }
      ]
    },
    {
      "cell_type": "markdown",
      "metadata": {
        "id": "0v48Vqa7FrQh"
      },
      "source": [
        "(13) Write a Python program to check whether an element exists within a tuple."
      ]
    },
    {
      "cell_type": "code",
      "execution_count": 20,
      "metadata": {
        "id": "7WEmgq-DF2P1",
        "colab": {
          "base_uri": "https://localhost:8080/"
        },
        "outputId": "bef1b72a-984d-4e12-d033-c9eabc3cfb5c"
      },
      "outputs": [
        {
          "output_type": "stream",
          "name": "stdout",
          "text": [
            "Enter elements: 7 8 9 0\n",
            "Enter an element to check: 8\n",
            "The element '8' is present in the tuple.\n"
          ]
        }
      ],
      "source": [
        "def check_element(element, elements_of_tuple):\n",
        "    return element in elements_of_tuple  # Return True if the element is in the tuple, otherwise False\n",
        "\n",
        "# Taking input from the user and converting it to a tuple\n",
        "elements_of_tuple = tuple(input(\"Enter elements: \").split())\n",
        "\n",
        "# Taking input from the user for the element to check\n",
        "checking_element = input(\"Enter an element to check: \")\n",
        "\n",
        "# Calling the check_element function with the element and tuple as arguments\n",
        "if check_element(checking_element, elements_of_tuple):\n",
        "    print(f\"The element '{checking_element}' is present in the tuple.\")\n",
        "else:\n",
        "    print(f\"The element '{checking_element}' is not present in the tuple.\")\n"
      ]
    },
    {
      "cell_type": "markdown",
      "metadata": {
        "id": "vD5PYLMuGga_"
      },
      "source": [
        "(14) Write a Python program to find maximum and the minimum value in a set."
      ]
    },
    {
      "cell_type": "code",
      "execution_count": 21,
      "metadata": {
        "id": "t0D5kdJUGjjw",
        "colab": {
          "base_uri": "https://localhost:8080/"
        },
        "outputId": "ab617c41-49c0-41ce-ae3c-55ec3e36372f"
      },
      "outputs": [
        {
          "output_type": "stream",
          "name": "stdout",
          "text": [
            "Enter elements of a set: 8 7 6 9\n",
            "Max value: 9\n",
            "Min value: 6\n"
          ]
        }
      ],
      "source": [
        "def max_and_min(values_of_set):\n",
        "    max_val = max(values_of_set)  # Find the maximum value in the set\n",
        "    min_val = min(values_of_set)  # Find the minimum value in the set\n",
        "    return max_val, min_val  # Return the maximum and minimum values\n",
        "\n",
        "# Taking input from the user and converting it to a set of integers\n",
        "values_of_set = set(map(int, input(\"Enter elements of a set: \").split()))\n",
        "\n",
        "# Calling the max_and_min function with the set as input\n",
        "max_val, min_val = max_and_min(values_of_set)\n",
        "\n",
        "# Printing the maximum and minimum values\n",
        "print(\"Max value:\", max_val)\n",
        "print(\"Min value:\", min_val)\n"
      ]
    },
    {
      "cell_type": "markdown",
      "metadata": {
        "id": "uHkd-y5VhVWC"
      },
      "source": [
        "(15) Write a Python program to randomly divide the students in this class into six groups for term projects, each group should have at least 4 students but no more than 6 students (including 6). Here is the students list:\n",
        "student_list_fall_2023=['sb1826' ,\n",
        " 'lb0582' ,\n",
        " 'ab1820' ,\n",
        " 'sb1883' ,\n",
        " 'mb1296' ,\n",
        " 'sc1622' ,\n",
        " 'tc0469' ,\n",
        " 'ac1770' ,\n",
        " 'mc1453' ,\n",
        " 'ad1187' ,\n",
        " 'sd0926' ,\n",
        " 'sd1268' ,\n",
        " 'ag1609' ,\n",
        " 'sg1638' ,\n",
        " 'mg1299' ,\n",
        " 'vkk0022' ,\n",
        " 'bk0413' ,\n",
        " 'gk0257' ,\n",
        " 'am2807' ,\n",
        " 'gm0558' ,\n",
        " 'pm0658' ,\n",
        " 'am2346' ,\n",
        " 'rm1090' ,\n",
        " 'sm2364' ,\n",
        " 'sm2747' ,\n",
        " 'sm2343' ,\n",
        " 'vm0597' ,\n",
        " 'htn0086' ,\n",
        " 'sp2075' ,\n",
        " 'gp0306' ,\n",
        " 'lp0502' ,\n",
        " 'sr1508' ,\n",
        " 'vr0331' ,\n",
        " 'yr0180' ,\n",
        " 'as2819' ,\n",
        " 'ss2981' ,\n",
        " 'ns0756' ,\n",
        " 'mt0825' ,\n",
        " 'dt0463' ,\n",
        " 'su0137' ,\n",
        " 'dv0310'\n",
        "]"
      ]
    },
    {
      "cell_type": "code",
      "execution_count": 25,
      "metadata": {
        "id": "3iGbmcOBhTwy",
        "colab": {
          "base_uri": "https://localhost:8080/"
        },
        "outputId": "2ea59b5e-b3c0-43a8-cae4-268308d1f89d"
      },
      "outputs": [
        {
          "output_type": "stream",
          "name": "stdout",
          "text": [
            "Group 1: ['ag1609', 'mg1299', 'lb0582', 'am2807', 'rm1090']\n",
            "Group 2: ['dv0310', 'bk0413', 'tc0469', 'sd0926', 'yr0180', 'lp0502', 'ns0756']\n",
            "Group 3: ['mt0825', 'sm2364', 'ss2981', 'sg1638']\n",
            "Group 4: ['as2819', 'vr0331', 'gp0306', 'gk0257', 'sd1268', 'vm0597']\n",
            "Group 5: ['sp2075', 'mb1296', 'gm0558', 'sm2747']\n",
            "Group 6: ['sr1508', 'ac1770', 'htn0086', 'ad1187']\n",
            "Group 7: ['sc1622', 'pm0658', 'sb1826', 'sb1883']\n",
            "Group 8: ['su0137', 'vkk0022', 'dt0463', 'am2346', 'ab1820', 'sm2343', 'mc1453']\n",
            "Group 1: ['vkk0022', 'mt0825', 'tc0469', 'sm2364', 'sb1826', 'vm0597']\n",
            "Group 2: ['dt0463', 'sg1638', 'gp0306', 'sd0926', 'lp0502']\n",
            "Group 3: ['bk0413', 'mb1296', 'lb0582', 'htn0086', 'sm2747']\n",
            "Group 4: ['sb1883', 'am2807', 'sd1268', 'yr0180', 'dv0310', 'gk0257', 'rm1090']\n",
            "Group 5: ['ac1770', 'ag1609', 'su0137', 'gm0558', 'vr0331']\n",
            "Group 6: ['ns0756', 'ss2981', 'mc1453', 'pm0658', 'mg1299', 'ab1820', 'sm2343']\n",
            "Group 7: ['sr1508', 'as2819', 'sc1622', 'am2346', 'ad1187', 'sp2075']\n"
          ]
        }
      ],
      "source": [
        "import random\n",
        "\n",
        "def divide_students_into_groups(student_list, group_size_range):\n",
        "    random.shuffle(student_list)  # Shuffle the student list to randomize the order\n",
        "\n",
        "    groups = []  # Initialize a list to store groups of students\n",
        "    current_group = []  # Initialize a list to store the current group\n",
        "\n",
        "    for student in student_list:\n",
        "        current_group.append(student)  # Add the current student to the current group\n",
        "        if len(current_group) >= random.choice(group_size_range):\n",
        "            groups.append(current_group)  # Add the current group to the list of groups\n",
        "            current_group = []  # Reset the current group to start a new one\n",
        "\n",
        "    # If there are remaining students in the current group, randomly distribute them among existing groups\n",
        "    for student in current_group:\n",
        "        groups[random.randint(0, len(groups) - 1)].append(student)\n",
        "\n",
        "    return groups\n",
        "\n",
        "import random\n",
        "\n",
        "def divide_students_into_groups(student_list, group_size_range):\n",
        "    random.shuffle(student_list)  # Shuffle the student list to randomize the order\n",
        "\n",
        "    groups = []  # Initialize a list to store groups of students\n",
        "    current_group = []  # Initialize a list to store the current group\n",
        "\n",
        "    for student in student_list:\n",
        "        current_group.append(student)  # Add the current student to the current group\n",
        "        if len(current_group) >= random.choice(group_size_range):\n",
        "            groups.append(current_group)  # Add the current group to the list of groups\n",
        "            current_group = []  # Reset the current group to start a new one\n",
        "\n",
        "    # If there are remaining students in the current group, randomly distribute them among existing groups\n",
        "    for student in current_group:\n",
        "        groups[random.randint(0, len(groups) - 1)].append(student)\n",
        "\n",
        "    return groups\n",
        "\n",
        "student_list_fall_2023 = ['sb1826', 'lb0582', 'ab1820', 'sb1883', 'mb1296', 'sc1622', 'tc0469', 'ac1770', 'mc1453', 'ad1187', 'sd0926', 'sd1268', 'ag1609', 'sg1638', 'mg1299', 'vkk0022', 'bk0413', 'gk0257', 'am2807', 'gm0558', 'pm0658', 'am2346', 'rm1090', 'sm2364', 'sm2747', 'sm2343', 'vm0597', 'htn0086', 'sp2075', 'gp0306', 'lp0502', 'sr1508', 'vr0331', 'yr0180', 'as2819', 'ss2981', 'ns0756', 'mt0825', 'dt0463', 'su0137', 'dv0310']  # List of student IDs\n",
        "\n",
        "group_size_range = range(4, 7)  # Specify the range of group sizes\n",
        "\n",
        "# Call the divide_students_into_groups function with the student list and group size range\n",
        "groups = divide_students_into_groups(student_list_fall_2023, group_size_range)\n",
        "\n",
        "# Print the groups\n",
        "for i, group in enumerate(groups, start=1):\n",
        "    print(f\"Group {i}: {group}\")\n",
        "  # List of student IDs\n",
        "\n",
        "group_size_range = range(4, 7)  # Specify the range of group sizes\n",
        "\n",
        "# Call the divide_students_into_groups function with the student list and group size range\n",
        "groups = divide_students_into_groups(student_list_fall_2023, group_size_range)\n",
        "\n",
        "# Print the groups\n",
        "for i, group in enumerate(groups, start=1):\n",
        "    print(f\"Group {i}: {group}\")\n"
      ]
    },
    {
      "cell_type": "markdown",
      "metadata": {
        "id": "fmZ9vX20Qs3d"
      },
      "source": [
        "(16) Write a Python program to find the duplicate elements in a given array of integers. Return -1 If there are no such elements."
      ]
    },
    {
      "cell_type": "code",
      "execution_count": 26,
      "metadata": {
        "id": "W8Jw6sWMQs3d",
        "colab": {
          "base_uri": "https://localhost:8080/"
        },
        "outputId": "1dedc3bc-28bd-47c7-de56-4dc5c5d1ea21"
      },
      "outputs": [
        {
          "output_type": "stream",
          "name": "stdout",
          "text": [
            "-1\n"
          ]
        }
      ],
      "source": [
        "def find_duplicate_elements(arr):\n",
        "    frequency_dict = {}  # Dictionary to store the frequency of each element\n",
        "    duplicate_elements = []  # List to store duplicate elements\n",
        "\n",
        "    # Calculate the frequency of each element in the array\n",
        "    for num in arr:\n",
        "        if num in frequency_dict:\n",
        "            frequency_dict[num] += 1\n",
        "        else:\n",
        "            frequency_dict[num] = 1\n",
        "\n",
        "    # Check for elements with frequency greater than 1 (duplicate elements)\n",
        "    for num, frequency in frequency_dict.items():\n",
        "        if frequency > 1:\n",
        "            duplicate_elements.append(num)\n",
        "\n",
        "    # If no duplicate elements are found, return -1\n",
        "    if not duplicate_elements:\n",
        "        return -1\n",
        "    else:\n",
        "        return duplicate_elements\n",
        "\n",
        "input_array = [1, 2, 3, 4]  # Input array of integers\n",
        "print(find_duplicate_elements(input_array))  # Print the result\n"
      ]
    },
    {
      "cell_type": "markdown",
      "metadata": {
        "id": "hvq4APMhQs3d"
      },
      "source": [
        "(17) Write a Python program to select all the Sundays of a specified year."
      ]
    },
    {
      "cell_type": "code",
      "execution_count": 27,
      "metadata": {
        "id": "ZnoxhSglQs3d",
        "colab": {
          "base_uri": "https://localhost:8080/"
        },
        "outputId": "5bbb0221-1cf2-458a-aae6-e60a1cd85f3e"
      },
      "outputs": [
        {
          "output_type": "stream",
          "name": "stdout",
          "text": [
            "Enter the year: 2020\n",
            "Sundays in 2020:\n",
            "2020-01-05\n",
            "2020-01-12\n",
            "2020-01-19\n",
            "2020-01-26\n",
            "2020-02-02\n",
            "2020-02-09\n",
            "2020-02-16\n",
            "2020-02-23\n",
            "2020-03-01\n",
            "2020-03-08\n",
            "2020-03-15\n",
            "2020-03-22\n",
            "2020-03-29\n",
            "2020-04-05\n",
            "2020-04-12\n",
            "2020-04-19\n",
            "2020-04-26\n",
            "2020-05-03\n",
            "2020-05-10\n",
            "2020-05-17\n",
            "2020-05-24\n",
            "2020-05-31\n",
            "2020-06-07\n",
            "2020-06-14\n",
            "2020-06-21\n",
            "2020-06-28\n",
            "2020-07-05\n",
            "2020-07-12\n",
            "2020-07-19\n",
            "2020-07-26\n",
            "2020-08-02\n",
            "2020-08-09\n",
            "2020-08-16\n",
            "2020-08-23\n",
            "2020-08-30\n",
            "2020-09-06\n",
            "2020-09-13\n",
            "2020-09-20\n",
            "2020-09-27\n",
            "2020-10-04\n",
            "2020-10-11\n",
            "2020-10-18\n",
            "2020-10-25\n",
            "2020-11-01\n",
            "2020-11-08\n",
            "2020-11-15\n",
            "2020-11-22\n",
            "2020-11-29\n",
            "2020-12-06\n",
            "2020-12-13\n",
            "2020-12-20\n",
            "2020-12-27\n"
          ]
        }
      ],
      "source": [
        "import datetime\n",
        "\n",
        "def find_sundays(year):\n",
        "    sundays = []  # List to store the dates of Sundays\n",
        "\n",
        "    for month in range(1, 13):  # Loop through each month\n",
        "        for day in range(1, 32):  # Loop through each day (up to 31)\n",
        "            try:\n",
        "                date = datetime.date(year, month, day)  # Create a date object\n",
        "                if date.weekday() == 6:  # Check if the day is a Sunday (0 is Monday, 6 is Sunday)\n",
        "                    sundays.append(date)  # Add the date to the list of Sundays\n",
        "            except ValueError:\n",
        "                pass  # Handle exceptions for invalid dates (e.g., Feb 30)\n",
        "\n",
        "    return sundays\n",
        "\n",
        "specified_year = int(input(\"Enter the year: \"))  # Get the specified year from the user\n",
        "sundays_list = find_sundays(specified_year)  # Call the function to find Sundays\n",
        "\n",
        "print(f\"Sundays in {specified_year}:\")\n",
        "for sunday in sundays_list:\n",
        "    print(sunday)  # Print each Sunday date\n"
      ]
    },
    {
      "cell_type": "markdown",
      "source": [
        "(18) Build a program that calculates the factorial of a given positive integer. The factorial of a non-negative integer n is the product of all positive integers less than or equal to n."
      ],
      "metadata": {
        "id": "55FWoSJPVVM6"
      }
    },
    {
      "cell_type": "code",
      "source": [
        "# Define a function to calculate factorial iteratively\n",
        "def factorial_iterative(n):\n",
        "    if n < 0:\n",
        "        return None  # Factorial is not defined for negative integers\n",
        "    if n == 0 or n == 1:\n",
        "        return 1\n",
        "\n",
        "    result = 1\n",
        "    for i in range(2, n + 1):\n",
        "        result *= i\n",
        "    return result\n",
        "\n",
        "# Define a function to calculate factorial recursively\n",
        "def factorial_recursive(n):\n",
        "    if n < 0:\n",
        "        return None  # Factorial is not defined for negative integers\n",
        "    if n == 0 or n == 1:\n",
        "        return 1\n",
        "    return n * factorial_recursive(n - 1)\n",
        "\n",
        "try:\n",
        "    n = int(input(\"Enter a positive integer: \"))  # Get the positive integer from the user\n",
        "\n",
        "    if n < 0:\n",
        "        print(\"Factorial is not defined for negative integers.\")\n",
        "    else:\n",
        "        iterative_result = factorial_iterative(n)  # Calculate factorial iteratively\n",
        "        recursive_result = factorial_recursive(n)  # Calculate factorial recursively\n",
        "\n",
        "        # Print the results\n",
        "        print(f\"Factorial of {n} (iterative): {iterative_result}\")\n",
        "        print(f\"Factorial of {n} (recursive): {recursive_result}\")\n",
        "except ValueError:\n",
        "    print(\"Invalid input. Please enter a valid positive integer.\")\n"
      ],
      "metadata": {
        "id": "hwtr1wZmVX5A",
        "colab": {
          "base_uri": "https://localhost:8080/"
        },
        "outputId": "dff5fdd2-9782-4f94-b307-fffadde2c4a8"
      },
      "execution_count": 28,
      "outputs": [
        {
          "output_type": "stream",
          "name": "stdout",
          "text": [
            "Enter a positive integer: 8\n",
            "Factorial of 8 (iterative): 40320\n",
            "Factorial of 8 (recursive): 40320\n"
          ]
        }
      ]
    },
    {
      "cell_type": "markdown",
      "source": [
        "(19) Write a program that takes a positive integer n as input and prints the count of even numbers from 1 to n. Use a loop to iterate through the numbers and utilize the break statement to optimize the loop."
      ],
      "metadata": {
        "id": "Q9ecagcaVazW"
      }
    },
    {
      "cell_type": "code",
      "source": [
        "def count_even_numbers(n):\n",
        "    if n <= 0:\n",
        "        print(\"Please enter a positive integer.\")\n",
        "        return\n",
        "\n",
        "    count = 0  # Initialize a counter for even numbers\n",
        "    for i in range(1, n + 1):\n",
        "        if i % 2 == 0:  # Check if the current number is even\n",
        "            count += 1  # Increment the counter if the number is even\n",
        "        elif i > n // 2:\n",
        "            break  # Optimize the loop: no need to continue beyond n/2\n",
        "\n",
        "    return count\n",
        "\n",
        "try:\n",
        "    n = int(input(\"Enter a positive integer: \"))  # Get the positive integer from the user\n",
        "    even_count = count_even_numbers(n)  # Count the even numbers\n",
        "    print(f\"Count of even numbers from 1 to {n}: {even_count}\")\n",
        "except ValueError:\n",
        "    print(\"Invalid input. Please enter a valid positive integer.\")\n"
      ],
      "metadata": {
        "id": "gycgckoAVZjR",
        "colab": {
          "base_uri": "https://localhost:8080/"
        },
        "outputId": "877edc15-b224-49af-d7dd-a0cc0fba07f5"
      },
      "execution_count": 29,
      "outputs": [
        {
          "output_type": "stream",
          "name": "stdout",
          "text": [
            "Enter a positive integer: 20\n",
            "Count of even numbers from 1 to 20: 5\n"
          ]
        }
      ]
    },
    {
      "cell_type": "markdown",
      "source": [
        "(20) Write a Python function called count_vowels that takes a string as input and returns the count of vowels (both lowercase and uppercase) present in the string. Consider the vowels to be 'a', 'e', 'i', 'o', and 'u'. Ignore spaces and other non-alphabetic characters."
      ],
      "metadata": {
        "id": "cboAr5pEWUf5"
      }
    },
    {
      "cell_type": "code",
      "source": [
        "def count_vowels(input_string):\n",
        "    vowels = \"aeiouAEIOU\"  # Define the list of vowel characters\n",
        "    vowel_count = 0  # Initialize a counter for vowel count\n",
        "\n",
        "    for char in input_string:\n",
        "        if char in vowels:  # Check if the current character is a vowel\n",
        "            vowel_count += 1  # Increment the counter if the character is a vowel\n",
        "\n",
        "    return vowel_count\n",
        "\n",
        "try:\n",
        "    input_str = input(\"Enter a string: \")  # Get the input string from the user\n",
        "    vowel_count = count_vowels(input_str)  # Count the vowels in the string\n",
        "    print(f\"Count of vowels in the string: {vowel_count}\")\n",
        "except ValueError:\n",
        "    print(\"Invalid input.\")\n"
      ],
      "metadata": {
        "id": "phs9gciMWWAW",
        "colab": {
          "base_uri": "https://localhost:8080/"
        },
        "outputId": "ea6ef7d4-053f-4ba5-ac66-4376ced1c894"
      },
      "execution_count": 30,
      "outputs": [
        {
          "output_type": "stream",
          "name": "stdout",
          "text": [
            "Enter a string: shreya\n",
            "Count of vowels in the string: 2\n"
          ]
        }
      ]
    }
  ],
  "metadata": {
    "colab": {
      "provenance": [],
      "include_colab_link": true
    },
    "kernelspec": {
      "display_name": "Python 3 (ipykernel)",
      "language": "python",
      "name": "python3"
    },
    "language_info": {
      "codemirror_mode": {
        "name": "ipython",
        "version": 3
      },
      "file_extension": ".py",
      "mimetype": "text/x-python",
      "name": "python",
      "nbconvert_exporter": "python",
      "pygments_lexer": "ipython3",
      "version": "3.9.12"
    }
  },
  "nbformat": 4,
  "nbformat_minor": 0
}