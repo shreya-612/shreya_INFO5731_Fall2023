{
  "cells": [
    {
      "cell_type": "markdown",
      "metadata": {
        "id": "view-in-github",
        "colab_type": "text"
      },
      "source": [
        "<a href=\"https://colab.research.google.com/github/shreya-612/shreya_INFO5731_Fall2023/blob/main/In_class_exercise/Padala_Shreya_Exercise_01.ipynb\" target=\"_parent\"><img src=\"https://colab.research.google.com/assets/colab-badge.svg\" alt=\"Open In Colab\"/></a>"
      ]
    },
    {
      "cell_type": "markdown",
      "source": [
        "(1) Write a Python program to calculate the area of a rectangle using user-input length and width."
      ],
      "metadata": {
        "id": "FBKvD6O_TY6e"
      }
    },
    {
      "cell_type": "code",
      "source": [
        "#length and width\n",
        "l=float(input(\"Length of rectangle \"))\n",
        "w=float(input(\"Width of rectangle \"))\n",
        "#finding area\n",
        "Area=l*w\n",
        "print(f\"Area of rectangle: {Area} sq. units\")"
      ],
      "metadata": {
        "id": "cikVKDXdTbzE",
        "colab": {
          "base_uri": "https://localhost:8080/"
        },
        "outputId": "e954da1b-b970-42a5-a83d-90f04f648e7f"
      },
      "execution_count": null,
      "outputs": [
        {
          "output_type": "stream",
          "name": "stdout",
          "text": [
            "Length of rectangle 4\n",
            "Width of rectangle 5\n",
            "Area of rectangle: 20.0 sq. units\n"
          ]
        }
      ]
    },
    {
      "cell_type": "markdown",
      "source": [
        "(2) Create a program that takes two numbers from the user and swaps their values without using a temporary variable."
      ],
      "metadata": {
        "id": "E9RqrlwdTfvl"
      }
    },
    {
      "cell_type": "code",
      "source": [
        "#Two numbers\n",
        "firstnum = float(input(\"Enter 1st number: \"))\n",
        "secondnum= float(input(\"Enter 2nd number: \"))\n",
        "# Swapping\n",
        "firstnum,secondnum=secondnum,firstnum\n",
        "#After Swapping\n",
        "print(\"After swapping is done:\")\n",
        "print(f\"1st number: {firstnum}\")\n",
        "print(f\"2nd number: {secondnum}\")\n"
      ],
      "metadata": {
        "id": "4XvRknixTh1g",
        "colab": {
          "base_uri": "https://localhost:8080/"
        },
        "outputId": "111a3221-3aac-46a8-b90a-a70d5006dca4"
      },
      "execution_count": null,
      "outputs": [
        {
          "output_type": "stream",
          "name": "stdout",
          "text": [
            "Enter 1st number: 5.7\n",
            "Enter 2nd number: 8.9\n",
            "After swapping is done:\n",
            "1st number: 8.9\n",
            "2nd number: 5.7\n"
          ]
        }
      ]
    },
    {
      "cell_type": "markdown",
      "metadata": {
        "id": "03jb4GZsBkBS"
      },
      "source": [
        "(3) Write a Python program to calculate the length of a string."
      ]
    },
    {
      "cell_type": "code",
      "execution_count": null,
      "metadata": {
        "id": "YaGLbSHHB8Ej",
        "colab": {
          "base_uri": "https://localhost:8080/"
        },
        "outputId": "c667df40-d90d-482a-b3c0-001ff0dc4286"
      },
      "outputs": [
        {
          "output_type": "stream",
          "name": "stdout",
          "text": [
            "Enter string: hiiiiheyhellooo\n",
            "string length is: 15\n"
          ]
        }
      ],
      "source": [
        "#string input\n",
        "string_input=input(\"Enter string: \")\n",
        "#length of string\n",
        "length=len(string_input)\n",
        "print(f\"string length is: {length}\")"
      ]
    },
    {
      "cell_type": "markdown",
      "metadata": {
        "id": "jJDe71iLB616"
      },
      "source": [
        "(4) Write a Python program to count the number of characters in a string.\n",
        "\n",
        "Sample String : 'google.com‘,\n",
        "\n",
        "Expected Result : {'o': 3, 'g': 2, '.': 1, 'e': 1, 'l': 1, 'm': 1, 'c': 1}"
      ]
    },
    {
      "cell_type": "code",
      "execution_count": null,
      "metadata": {
        "id": "MtKskTzbCLaU",
        "colab": {
          "base_uri": "https://localhost:8080/"
        },
        "outputId": "52b58fc4-83f7-48d0-cb96-c552e0216b0c"
      },
      "outputs": [
        {
          "output_type": "stream",
          "name": "stdout",
          "text": [
            "Enter string: whyyy\n",
            "number of characters in a string:\n",
            "'w': 1\n",
            "'h': 1\n",
            "'y': 3\n"
          ]
        }
      ],
      "source": [
        "def string_characters(string_input):\n",
        "    num_of_char={}\n",
        "    for char in string_input:\n",
        "        if char in num_of_char:\n",
        "            num_of_char[char]=num_of_char[char]+1\n",
        "        else:\n",
        "            num_of_char[char]=1\n",
        "    return num_of_char\n",
        "string_input = input(\"Enter string: \")\n",
        "num_of_char = string_characters(string_input)\n",
        "print(\"number of characters in a string:\")\n",
        "for char, count in num_of_char.items():\n",
        "    print(f\"'{char}': {count}\")"
      ]
    },
    {
      "cell_type": "markdown",
      "metadata": {
        "id": "55W9AMdXCSpV"
      },
      "source": [
        "(5) Write a Python program to sum all the items in a list."
      ]
    },
    {
      "cell_type": "code",
      "execution_count": null,
      "metadata": {
        "id": "I57NXsauCec2",
        "colab": {
          "base_uri": "https://localhost:8080/"
        },
        "outputId": "6d754779-49b1-4250-e5f2-de103561af42"
      },
      "outputs": [
        {
          "output_type": "stream",
          "name": "stdout",
          "text": [
            "Enter items in the list: 5 6 7 4 3 2 \n",
            "Sum of items in list: 27\n"
          ]
        }
      ],
      "source": [
        "def sum_of_list(list_input):\n",
        "    return sum(list_input)\n",
        "list_input = [int(x) for x in input(\"Enter items in the list: \").split()]\n",
        "result = sum_of_list(list_input)\n",
        "print(\"Sum of items in list:\", result)"
      ]
    },
    {
      "cell_type": "markdown",
      "metadata": {
        "id": "4ulBZ6yhCi9F"
      },
      "source": [
        "(6) Write a Python program to get a string from a given string where all occurrences of its first char have been changed to '\\$', except the first char itself.\n",
        "\n",
        "Sample String : 'restart‘,\n",
        "\n",
        "Expected Result : 'resta\\$t'"
      ]
    },
    {
      "cell_type": "code",
      "execution_count": 2,
      "metadata": {
        "id": "Fj0XhwbBCw2o",
        "colab": {
          "base_uri": "https://localhost:8080/"
        },
        "outputId": "8ef41e83-b15b-434f-c93c-53d5acb9cf8c"
      },
      "outputs": [
        {
          "output_type": "stream",
          "name": "stdout",
          "text": [
            "Enter a string: restart\n",
            "resta$t\n"
          ]
        }
      ],
      "source": [
        "def replace_first_char_occurrences(input_string):\n",
        "    if len(input_string) <= 1:\n",
        "        return input_string\n",
        "\n",
        "    first_char = input_string[0]\n",
        "    modified_str = first_char + input_string[1:].replace(first_char, '$')\n",
        "\n",
        "    return modified_str\n",
        "input_string = input(\"Enter a string: \")\n",
        "print(replace_first_char_occurrences(input_string))\n"
      ]
    },
    {
      "cell_type": "markdown",
      "source": [
        "(7) Create a program that calculates the factorial of a number using a while loop."
      ],
      "metadata": {
        "id": "qVXA3q7ET5JI"
      }
    },
    {
      "cell_type": "code",
      "source": [
        "def factorial_of_num(n):\n",
        "    f=1\n",
        "    while n>1:\n",
        "        f=f*n\n",
        "        n=n-1\n",
        "    return f\n",
        "n_value = int(input(\"Enter num: \"))\n",
        "result = factorial_of_num(n_value)\n",
        "print(\"Factorial:\", result)"
      ],
      "metadata": {
        "id": "Lbt7R6UkT7BA",
        "colab": {
          "base_uri": "https://localhost:8080/"
        },
        "outputId": "66f5da31-731a-45ed-d622-029d6c922558"
      },
      "execution_count": null,
      "outputs": [
        {
          "output_type": "stream",
          "name": "stdout",
          "text": [
            "Enter num: 4\n",
            "Factorial: 24\n"
          ]
        }
      ]
    },
    {
      "cell_type": "markdown",
      "source": [
        "(8) Create a program that takes a list of numbers as input and outputs a new list with only the even numbers."
      ],
      "metadata": {
        "id": "6YfbzXMNT--R"
      }
    },
    {
      "cell_type": "code",
      "source": [
        "def even_num(list_input):\n",
        "    even_numbers_list = []\n",
        "    for n in list_input:\n",
        "        if n % 2 == 0:\n",
        "            even_numbers_list.append(n)\n",
        "    return even_numbers_list\n",
        "list_input = [int(x) for x in input(\"Enter a list of numbers\").split()]\n",
        "result = even_num(list_input)\n",
        "print(\"New list with only even numbers:\", result)"
      ],
      "metadata": {
        "id": "54q7wMQPUAKu",
        "colab": {
          "base_uri": "https://localhost:8080/"
        },
        "outputId": "0bccafad-7f97-471a-a0c7-42c59fa90356"
      },
      "execution_count": null,
      "outputs": [
        {
          "output_type": "stream",
          "name": "stdout",
          "text": [
            "Enter a list of numbers3 4 5 6  7\n",
            "New list with only even numbers: [4, 6]\n"
          ]
        }
      ]
    },
    {
      "cell_type": "markdown",
      "metadata": {
        "id": "_bIP7s1MCzue"
      },
      "source": [
        "(9) Write a program with python which could accept two parameter a and b to calculate and output the result of S, where\n",
        "\n",
        "$\\ S=3.14*(1+a/b)^3$\n",
        "\n"
      ]
    },
    {
      "cell_type": "code",
      "execution_count": null,
      "metadata": {
        "id": "w79QilHXD3Mg",
        "colab": {
          "base_uri": "https://localhost:8080/"
        },
        "outputId": "b91c4936-2f22-439c-f663-752c38a42f1e"
      },
      "outputs": [
        {
          "output_type": "stream",
          "name": "stdout",
          "text": [
            "Enter a value: 5\n",
            "Enter b value: 4\n",
            "S value is: 35.7665625\n"
          ]
        }
      ],
      "source": [
        "def s_val(a, b):\n",
        "    S=3.14*(1+a/b)**3\n",
        "    return S\n",
        "a = float(input(\"Enter a value: \"))\n",
        "b = float(input(\"Enter b value: \"))\n",
        "answer=s_val(a, b)\n",
        "print(\"S value is:\",answer)"
      ]
    },
    {
      "cell_type": "markdown",
      "metadata": {
        "id": "xCa2bK9aD4Q3"
      },
      "source": [
        "(10) Write a Python program to concatenate following dictionaries to create a new one.\n",
        "\n",
        "Sample Dictionary : dic1={1:10, 2:20}, dic2={3:30, 4:40}, dic3={5:50,6:60},\n",
        "\n",
        "Expected Result : {1: 10, 2: 20, 3: 30, 4: 40, 5: 50, 6: 60}\n"
      ]
    },
    {
      "cell_type": "code",
      "execution_count": 3,
      "metadata": {
        "id": "_z4aLqAbEET1",
        "colab": {
          "base_uri": "https://localhost:8080/"
        },
        "outputId": "1e03fa9f-dcb0-41cb-b651-35755d57e6a8"
      },
      "outputs": [
        {
          "output_type": "stream",
          "name": "stdout",
          "text": [
            "{1: 10, 2: 20, 3: 30, 4: 40, 5: 50, 6: 60}\n"
          ]
        }
      ],
      "source": [
        "def concatenate_dicts(*dicts):\n",
        "    concatenated_dict = {}\n",
        "    for d in dicts:\n",
        "        concatenated_dict.update(d)\n",
        "    return concatenated_dict\n",
        "\n",
        "dic1 = {1: 10, 2: 20}\n",
        "dic2 = {3: 30, 4: 40}\n",
        "dic3 = {5: 50, 6: 60}\n",
        "\n",
        "print(concatenate_dicts(dic1, dic2, dic3))\n"
      ]
    },
    {
      "cell_type": "markdown",
      "source": [
        "(11) Write a Python function that accepts a tuple of integers and returns the largest and smallest elements."
      ],
      "metadata": {
        "id": "bkyZ2xSZUOst"
      }
    },
    {
      "cell_type": "code",
      "source": [
        "def largest_and_smallest(values):\n",
        "    s=min(values)\n",
        "    l=max(values)\n",
        "    return s,l\n",
        "tuple_as_input= tuple(int(x) for x in input(\"Enter tuple of integers: \").split())\n",
        "s,l = largest_and_smallest(tuple_as_input)\n",
        "print(\"Smallest:\", s)\n",
        "print(\"Largest:\", l)"
      ],
      "metadata": {
        "id": "3FdLRBKOUQEd",
        "colab": {
          "base_uri": "https://localhost:8080/"
        },
        "outputId": "d6ca82e2-3443-4540-8c3b-f8be67c3465c"
      },
      "execution_count": null,
      "outputs": [
        {
          "output_type": "stream",
          "name": "stdout",
          "text": [
            "Enter tuple of integers: 6     5 6 78 6\n",
            "Smallest: 5\n",
            "Largest: 78\n"
          ]
        }
      ]
    },
    {
      "cell_type": "markdown",
      "source": [
        "(12) Write a Python program that counts the frequency of each character in a given string and stores it in a dictionary."
      ],
      "metadata": {
        "id": "O0TVi3gKUTpp"
      }
    },
    {
      "cell_type": "code",
      "source": [
        "def count_character_frequency(input_string):\n",
        "    frequency_dict = {}\n",
        "\n",
        "    for char in input_string:\n",
        "        if char in frequency_dict:\n",
        "            frequency_dict[char] += 1\n",
        "        else:\n",
        "            frequency_dict[char] = 1\n",
        "\n",
        "    return frequency_dict\n",
        "\n",
        "input_string = input(\"Enter a string: \")\n",
        "result = count_character_frequency(input_string)\n",
        "\n",
        "print(\"Character Frequency:\")\n",
        "for char, frequency in result.items():\n",
        "    print(f\"'{char}': {frequency}\")\n"
      ],
      "metadata": {
        "id": "lAtfSfZXUU-h",
        "colab": {
          "base_uri": "https://localhost:8080/"
        },
        "outputId": "0af0ee9c-e4af-4bd2-d80d-39383156c800"
      },
      "execution_count": 4,
      "outputs": [
        {
          "output_type": "stream",
          "name": "stdout",
          "text": [
            "Enter a string: restart\n",
            "Character Frequency:\n",
            "'r': 2\n",
            "'e': 1\n",
            "'s': 1\n",
            "'t': 2\n",
            "'a': 1\n"
          ]
        }
      ]
    },
    {
      "cell_type": "markdown",
      "metadata": {
        "id": "0v48Vqa7FrQh"
      },
      "source": [
        "(13) Write a Python program to check whether an element exists within a tuple."
      ]
    },
    {
      "cell_type": "code",
      "execution_count": null,
      "metadata": {
        "id": "7WEmgq-DF2P1",
        "colab": {
          "base_uri": "https://localhost:8080/"
        },
        "outputId": "fc5d1aa7-5055-41c1-9a6a-a41b2da3850f"
      },
      "outputs": [
        {
          "output_type": "stream",
          "name": "stdout",
          "text": [
            "Enter elements: 7 8 9 0\n",
            "Enter an element to check: 9\n",
            "The element '9' present in tuple.\n"
          ]
        }
      ],
      "source": [
        "def check_element(element, elements_of_tuple):\n",
        "    return element in elements_of_tuple\n",
        "elements_of_tuple = tuple(input(\"Enter elements: \").split())\n",
        "checking_element = input(\"Enter an element to check: \")\n",
        "if check_element(checking_element, elements_of_tuple):\n",
        "    print(f\"The element '{checking_element}' present in tuple.\")\n",
        "else:\n",
        "    print(f\"The element '{checking_element}' is not present in tuple.\")"
      ]
    },
    {
      "cell_type": "markdown",
      "metadata": {
        "id": "vD5PYLMuGga_"
      },
      "source": [
        "(14) Write a Python program to find maximum and the minimum value in a set."
      ]
    },
    {
      "cell_type": "code",
      "execution_count": null,
      "metadata": {
        "id": "t0D5kdJUGjjw",
        "colab": {
          "base_uri": "https://localhost:8080/"
        },
        "outputId": "dda23538-63fd-43e4-bcb3-f2c5f40f618c"
      },
      "outputs": [
        {
          "output_type": "stream",
          "name": "stdout",
          "text": [
            "Enter elements of a set: 8 7 6 9\n",
            "Max value: 9\n",
            "Min value: 6\n"
          ]
        }
      ],
      "source": [
        "def max_and_min(values_of_set):\n",
        "    max_val = max(values_of_set)\n",
        "    min_val = min(values_of_set)\n",
        "    return max_val, min_val\n",
        "values_of_set = set(map(int, input(\"Enter elements of a set: \").split()))\n",
        "max_val, min_val = max_and_min(values_of_set)\n",
        "print(\"Max value:\", max_val)\n",
        "print(\"Min value:\", min_val)"
      ]
    },
    {
      "cell_type": "markdown",
      "metadata": {
        "id": "uHkd-y5VhVWC"
      },
      "source": [
        "(15) Write a Python program to randomly divide the students in this class into six groups for term projects, each group should have at least 4 students but no more than 6 students (including 6). Here is the students list:\n",
        "student_list_fall_2023=['sb1826' ,\n",
        " 'lb0582' ,\n",
        " 'ab1820' ,\n",
        " 'sb1883' ,\n",
        " 'mb1296' ,\n",
        " 'sc1622' ,\n",
        " 'tc0469' ,\n",
        " 'ac1770' ,\n",
        " 'mc1453' ,\n",
        " 'ad1187' ,\n",
        " 'sd0926' ,\n",
        " 'sd1268' ,\n",
        " 'ag1609' ,\n",
        " 'sg1638' ,\n",
        " 'mg1299' ,\n",
        " 'vkk0022' ,\n",
        " 'bk0413' ,\n",
        " 'gk0257' ,\n",
        " 'am2807' ,\n",
        " 'gm0558' ,\n",
        " 'pm0658' ,\n",
        " 'am2346' ,\n",
        " 'rm1090' ,\n",
        " 'sm2364' ,\n",
        " 'sm2747' ,\n",
        " 'sm2343' ,\n",
        " 'vm0597' ,\n",
        " 'htn0086' ,\n",
        " 'sp2075' ,\n",
        " 'gp0306' ,\n",
        " 'lp0502' ,\n",
        " 'sr1508' ,\n",
        " 'vr0331' ,\n",
        " 'yr0180' ,\n",
        " 'as2819' ,\n",
        " 'ss2981' ,\n",
        " 'ns0756' ,\n",
        " 'mt0825' ,\n",
        " 'dt0463' ,\n",
        " 'su0137' ,\n",
        " 'dv0310'\n",
        "]"
      ]
    },
    {
      "cell_type": "code",
      "execution_count": 5,
      "metadata": {
        "id": "3iGbmcOBhTwy",
        "colab": {
          "base_uri": "https://localhost:8080/"
        },
        "outputId": "fb74a3b9-f198-4242-d20f-e4aedc8bd045"
      },
      "outputs": [
        {
          "output_type": "stream",
          "name": "stdout",
          "text": [
            "Group 1: ['sm2343', 'vkk0022', 'lp0502', 'dv0310', 'ab1820', 'mg1299', 'vr0331']\n",
            "Group 2: ['sm2747', 'sc1622', 'am2807', 'mt0825']\n",
            "Group 3: ['mc1453', 'bk0413', 'mb1296', 'sd0926']\n",
            "Group 4: ['ns0756', 'gk0257', 'gp0306', 'ac1770', 'pm0658']\n",
            "Group 5: ['am2346', 'sm2364', 'sg1638', 'rm1090']\n",
            "Group 6: ['sr1508', 'sp2075', 'vm0597', 'tc0469', 'su0137', 'sb1826']\n",
            "Group 7: ['gm0558', 'ag1609', 'ad1187', 'sd1268', 'sb1883']\n",
            "Group 8: ['dt0463', 'lb0582', 'as2819', 'ss2981', 'yr0180', 'htn0086']\n"
          ]
        }
      ],
      "source": [
        "import random\n",
        "\n",
        "def divide_students_into_groups(student_list, group_size_range):\n",
        "    random.shuffle(student_list)\n",
        "\n",
        "    groups = []\n",
        "    current_group = []\n",
        "\n",
        "    for student in student_list:\n",
        "        current_group.append(student)\n",
        "        if len(current_group) >= random.choice(group_size_range):\n",
        "            groups.append(current_group)\n",
        "            current_group = []\n",
        "\n",
        "    for student in current_group:\n",
        "        groups[random.randint(0, len(groups) - 1)].append(student)\n",
        "\n",
        "    return groups\n",
        "\n",
        "student_list_fall_2023 = ['sb1826', 'lb0582', 'ab1820', 'sb1883', 'mb1296', 'sc1622', 'tc0469', 'ac1770', 'mc1453', 'ad1187', 'sd0926', 'sd1268', 'ag1609', 'sg1638', 'mg1299', 'vkk0022', 'bk0413', 'gk0257', 'am2807', 'gm0558', 'pm0658', 'am2346', 'rm1090', 'sm2364', 'sm2747', 'sm2343', 'vm0597', 'htn0086', 'sp2075', 'gp0306', 'lp0502', 'sr1508', 'vr0331', 'yr0180', 'as2819', 'ss2981', 'ns0756', 'mt0825', 'dt0463', 'su0137', 'dv0310']\n",
        "\n",
        "group_size_range = range(4, 7)\n",
        "\n",
        "groups = divide_students_into_groups(student_list_fall_2023, group_size_range)\n",
        "\n",
        "for i, group in enumerate(groups, start=1):\n",
        "    print(f\"Group {i}: {group}\")\n"
      ]
    },
    {
      "cell_type": "markdown",
      "metadata": {
        "id": "fmZ9vX20Qs3d"
      },
      "source": [
        "(16) Write a Python program to find the duplicate elements in a given array of integers. Return -1 If there are no such elements."
      ]
    },
    {
      "cell_type": "code",
      "execution_count": 6,
      "metadata": {
        "id": "W8Jw6sWMQs3d",
        "colab": {
          "base_uri": "https://localhost:8080/"
        },
        "outputId": "37a34806-81cd-400c-9340-ff8a2d0a0ca3"
      },
      "outputs": [
        {
          "output_type": "stream",
          "name": "stdout",
          "text": [
            "-1\n"
          ]
        }
      ],
      "source": [
        "def find_duplicate_elements(arr):\n",
        "    frequency_dict = {}\n",
        "    duplicate_elements = []\n",
        "\n",
        "    for num in arr:\n",
        "        if num in frequency_dict:\n",
        "            frequency_dict[num] += 1\n",
        "        else:\n",
        "            frequency_dict[num] = 1\n",
        "\n",
        "    for num, frequency in frequency_dict.items():\n",
        "        if frequency > 1:\n",
        "            duplicate_elements.append(num)\n",
        "\n",
        "    if not duplicate_elements:\n",
        "        return -1\n",
        "    else:\n",
        "        return duplicate_elements\n",
        "\n",
        "\n",
        "input_array = [1, 2, 3, 4]\n",
        "print(find_duplicate_elements(input_array))\n"
      ]
    },
    {
      "cell_type": "markdown",
      "metadata": {
        "id": "hvq4APMhQs3d"
      },
      "source": [
        "(17) Write a Python program to select all the Sundays of a specified year."
      ]
    },
    {
      "cell_type": "code",
      "execution_count": 7,
      "metadata": {
        "id": "ZnoxhSglQs3d",
        "colab": {
          "base_uri": "https://localhost:8080/"
        },
        "outputId": "5107542d-8b2a-4faf-9918-1e09a374eab5"
      },
      "outputs": [
        {
          "output_type": "stream",
          "name": "stdout",
          "text": [
            "Enter the year: 2000\n",
            "Sundays in 2000:\n",
            "2000-01-02\n",
            "2000-01-09\n",
            "2000-01-16\n",
            "2000-01-23\n",
            "2000-01-30\n",
            "2000-02-06\n",
            "2000-02-13\n",
            "2000-02-20\n",
            "2000-02-27\n",
            "2000-03-05\n",
            "2000-03-12\n",
            "2000-03-19\n",
            "2000-03-26\n",
            "2000-04-02\n",
            "2000-04-09\n",
            "2000-04-16\n",
            "2000-04-23\n",
            "2000-04-30\n",
            "2000-05-07\n",
            "2000-05-14\n",
            "2000-05-21\n",
            "2000-05-28\n",
            "2000-06-04\n",
            "2000-06-11\n",
            "2000-06-18\n",
            "2000-06-25\n",
            "2000-07-02\n",
            "2000-07-09\n",
            "2000-07-16\n",
            "2000-07-23\n",
            "2000-07-30\n",
            "2000-08-06\n",
            "2000-08-13\n",
            "2000-08-20\n",
            "2000-08-27\n",
            "2000-09-03\n",
            "2000-09-10\n",
            "2000-09-17\n",
            "2000-09-24\n",
            "2000-10-01\n",
            "2000-10-08\n",
            "2000-10-15\n",
            "2000-10-22\n",
            "2000-10-29\n",
            "2000-11-05\n",
            "2000-11-12\n",
            "2000-11-19\n",
            "2000-11-26\n",
            "2000-12-03\n",
            "2000-12-10\n",
            "2000-12-17\n",
            "2000-12-24\n",
            "2000-12-31\n"
          ]
        }
      ],
      "source": [
        "import datetime\n",
        "\n",
        "def find_sundays(year):\n",
        "    sundays = []\n",
        "\n",
        "    for month in range(1, 13):\n",
        "        for day in range(1, 32):\n",
        "            try:\n",
        "                date = datetime.date(year, month, day)\n",
        "                if date.weekday() == 6:\n",
        "                    sundays.append(date)\n",
        "            except ValueError:\n",
        "                pass\n",
        "\n",
        "    return sundays\n",
        "\n",
        "specified_year = int(input(\"Enter the year: \"))\n",
        "sundays_list = find_sundays(specified_year)\n",
        "\n",
        "print(f\"Sundays in {specified_year}:\")\n",
        "for sunday in sundays_list:\n",
        "    print(sunday)\n"
      ]
    },
    {
      "cell_type": "markdown",
      "source": [
        "(18) Build a program that calculates the factorial of a given positive integer. The factorial of a non-negative integer n is the product of all positive integers less than or equal to n."
      ],
      "metadata": {
        "id": "55FWoSJPVVM6"
      }
    },
    {
      "cell_type": "code",
      "source": [
        "def factorial_iterative(n):\n",
        "    if n < 0:\n",
        "        return None\n",
        "    if n == 0 or n == 1:\n",
        "        return 1\n",
        "\n",
        "    result = 1\n",
        "    for i in range(2, n + 1):\n",
        "        result *= i\n",
        "    return result\n",
        "\n",
        "def factorial_recursive(n):\n",
        "    if n < 0:\n",
        "        return None\n",
        "    if n == 0 or n == 1:\n",
        "        return 1\n",
        "    return n * factorial_recursive(n - 1)\n",
        "\n",
        "try:\n",
        "    n = int(input(\"Enter a positive integer: \"))\n",
        "    if n < 0:\n",
        "        print(\"Factorial is not defined for negative integers.\")\n",
        "    else:\n",
        "        iterative_result = factorial_iterative(n)\n",
        "        recursive_result = factorial_recursive(n)\n",
        "        print(f\"Factorial of {n} (iterative): {iterative_result}\")\n",
        "        print(f\"Factorial of {n} (recursive): {recursive_result}\")\n",
        "except ValueError:\n",
        "    print(\"Invalid input. Please enter a valid positive integer.\")\n"
      ],
      "metadata": {
        "id": "hwtr1wZmVX5A",
        "colab": {
          "base_uri": "https://localhost:8080/"
        },
        "outputId": "7549d447-1826-4878-d385-35c2639b7cb6"
      },
      "execution_count": 8,
      "outputs": [
        {
          "output_type": "stream",
          "name": "stdout",
          "text": [
            "Enter a positive integer: 7\n",
            "Factorial of 7 (iterative): 5040\n",
            "Factorial of 7 (recursive): 5040\n"
          ]
        }
      ]
    },
    {
      "cell_type": "markdown",
      "source": [
        "(19) Write a program that takes a positive integer n as input and prints the count of even numbers from 1 to n. Use a loop to iterate through the numbers and utilize the break statement to optimize the loop."
      ],
      "metadata": {
        "id": "Q9ecagcaVazW"
      }
    },
    {
      "cell_type": "code",
      "source": [
        "def count_even_numbers(n):\n",
        "    if n <= 0:\n",
        "        print(\"Please enter a positive integer.\")\n",
        "        return\n",
        "\n",
        "    count = 0\n",
        "    for i in range(1, n + 1):\n",
        "        if i % 2 == 0:\n",
        "            count += 1\n",
        "        elif i > n // 2:\n",
        "            break\n",
        "\n",
        "    return count\n",
        "\n",
        "try:\n",
        "    n = int(input(\"Enter a positive integer: \"))\n",
        "    even_count = count_even_numbers(n)\n",
        "    print(f\"Count of even numbers from 1 to {n}: {even_count}\")\n",
        "except ValueError:\n",
        "    print(\"Invalid input. Please enter a valid positive integer.\")\n"
      ],
      "metadata": {
        "id": "gycgckoAVZjR",
        "colab": {
          "base_uri": "https://localhost:8080/"
        },
        "outputId": "a08ad7c1-f370-4ee0-93ce-e143468258ba"
      },
      "execution_count": 9,
      "outputs": [
        {
          "output_type": "stream",
          "name": "stdout",
          "text": [
            "Enter a positive integer: 6\n",
            "Count of even numbers from 1 to 6: 2\n"
          ]
        }
      ]
    },
    {
      "cell_type": "markdown",
      "source": [
        "(20) Write a Python function called count_vowels that takes a string as input and returns the count of vowels (both lowercase and uppercase) present in the string. Consider the vowels to be 'a', 'e', 'i', 'o', and 'u'. Ignore spaces and other non-alphabetic characters."
      ],
      "metadata": {
        "id": "cboAr5pEWUf5"
      }
    },
    {
      "cell_type": "code",
      "source": [
        "def count_vowels(input_string):\n",
        "    vowels = \"aeiouAEIOU\"\n",
        "    vowel_count = 0\n",
        "\n",
        "    for char in input_string:\n",
        "        if char in vowels:\n",
        "            vowel_count += 1\n",
        "\n",
        "    return vowel_count\n",
        "\n",
        "try:\n",
        "    input_str = input(\"Enter a string: \")\n",
        "    vowel_count = count_vowels(input_str)\n",
        "    print(f\"Count of vowels in the string: {vowel_count}\")\n",
        "except ValueError:\n",
        "    print(\"Invalid input.\")\n"
      ],
      "metadata": {
        "id": "phs9gciMWWAW",
        "colab": {
          "base_uri": "https://localhost:8080/"
        },
        "outputId": "ee986ba0-51cc-4d56-eafa-ea0006ffea32"
      },
      "execution_count": 10,
      "outputs": [
        {
          "output_type": "stream",
          "name": "stdout",
          "text": [
            "Enter a string: shreya\n",
            "Count of vowels in the string: 2\n"
          ]
        }
      ]
    }
  ],
  "metadata": {
    "colab": {
      "provenance": [],
      "include_colab_link": true
    },
    "kernelspec": {
      "display_name": "Python 3 (ipykernel)",
      "language": "python",
      "name": "python3"
    },
    "language_info": {
      "codemirror_mode": {
        "name": "ipython",
        "version": 3
      },
      "file_extension": ".py",
      "mimetype": "text/x-python",
      "name": "python",
      "nbconvert_exporter": "python",
      "pygments_lexer": "ipython3",
      "version": "3.9.12"
    }
  },
  "nbformat": 4,
  "nbformat_minor": 0
}